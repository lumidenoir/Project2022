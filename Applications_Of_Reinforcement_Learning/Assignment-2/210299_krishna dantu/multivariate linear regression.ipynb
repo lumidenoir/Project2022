{
 "cells": [
  {
   "cell_type": "markdown",
   "metadata": {},
   "source": [
    "## Multivariate linear regression\n",
    "\n",
    "### Initialising program\n",
    "- Importing libraries.\n",
    "- Initialising hyperparameters."
   ]
  },
  {
   "cell_type": "code",
   "execution_count": 329,
   "metadata": {},
   "outputs": [],
   "source": [
    "import pandas as pd\n",
    "import numpy as np\n",
    "import matplotlib.pyplot as plt\n",
    "url=\"https://raw.githubusercontent.com/lumidenoir/Project2022/assignment/Applications_Of_Reinforcement_Learning/Assignment-2/210299_krishna%20dantu/CarPrice_Assignment.csv\"\n",
    "query=[[190.9,70.3,54.9,183,3.64,123]]\n",
    "alpha=0.01\n",
    "cycle=5000"
   ]
  },
  {
   "cell_type": "markdown",
   "metadata": {},
   "source": [
    "### Functions:\n",
    "\n",
    "#### Normalisation functions"
   ]
  },
  {
   "cell_type": "code",
   "execution_count": 330,
   "metadata": {},
   "outputs": [],
   "source": [
    "def normalise(matrix):\n",
    "    factor1=matrix.min()\n",
    "    factor2=matrix.max()-matrix.min()\n",
    "    matrix_nor = (matrix-factor1)/factor2\n",
    "    return matrix_nor,factor1,factor2\n",
    "\n",
    "def stdnormalise(matrix):\n",
    "    factor1=matrix.mean()\n",
    "    factor2=matrix.std()\n",
    "    matrix_std = (matrix-factor1)/factor2\n",
    "    return matrix_std,factor1,factor2"
   ]
  },
  {
   "cell_type": "markdown",
   "metadata": {},
   "source": [
    "#### Splitting and Stacking functions:"
   ]
  },
  {
   "cell_type": "code",
   "execution_count": 331,
   "metadata": {},
   "outputs": [],
   "source": [
    "def split(matrix,ratio):\n",
    "    m=matrix.shape[0]\n",
    "    n=int(m*ratio)\n",
    "    traindata=matrix.iloc[0:n].values\n",
    "    testdata=matrix.iloc[n:m].values\n",
    "    return traindata,testdata\n",
    "\n",
    "def concatenate(matrix):\n",
    "    matrix=np.concatenate((np.ones((matrix.shape[0],1)),matrix), axis=1)\n",
    "    return matrix"
   ]
  },
  {
   "cell_type": "markdown",
   "metadata": {},
   "source": [
    "#### Cost function and Gradient descent function:"
   ]
  },
  {
   "cell_type": "code",
   "execution_count": 332,
   "metadata": {},
   "outputs": [],
   "source": [
    "def costfunction(X,y,theta):\n",
    "    sqr_error=((X.dot(theta.T))-y)**2\n",
    "    sumofsquares=np.sum(sqr_error)\n",
    "    return (1/2*X.shape[0])*sumofsquares\n",
    "\n",
    "def gradientdescent(X,y,theta,cycle,alpha):\n",
    "    cost = np.zeros(cycle)\n",
    "    for i in range(cycle):\n",
    "        error=((X.dot(theta.T))-y)\n",
    "        multiplyerror = (error.T@X)\n",
    "        theta = theta-(alpha/X.shape[1])*multiplyerror\n",
    "        cost[i] = costfunction(X, y, theta)\n",
    "    \n",
    "    return theta,cost"
   ]
  },
  {
   "cell_type": "markdown",
   "metadata": {},
   "source": [
    "#### Prediction and r2 score function:"
   ]
  },
  {
   "cell_type": "code",
   "execution_count": 333,
   "metadata": {},
   "outputs": [],
   "source": [
    "def predict(X,theta):\n",
    "    y_predict=X.dot(theta.T)\n",
    "    return y_predict\n",
    "\n",
    "def r2score(y_pred, y):\n",
    "    rss = np.sum((y_pred - y) ** 2)\n",
    "    tss = np.sum((y-y.mean()) ** 2)\n",
    "    r2 = 1 - (rss / tss)\n",
    "    return r2"
   ]
  },
  {
   "cell_type": "markdown",
   "metadata": {},
   "source": [
    "### Importing data from dataset:"
   ]
  },
  {
   "cell_type": "code",
   "execution_count": 334,
   "metadata": {},
   "outputs": [],
   "source": [
    "my_data=pd.read_csv(url, skipinitialspace=True, usecols=['carlength','carwidth','carheight','enginesize','stroke','horsepower'])\n",
    "price_data=pd.read_csv(url, skipinitialspace=True, usecols=['price'])\n",
    "theta=np.zeros((1,my_data.shape[1]+1))#initialised theta"
   ]
  },
  {
   "cell_type": "markdown",
   "metadata": {},
   "source": [
    "### For 80:20 splitting:\n",
    "##### Calculations:"
   ]
  },
  {
   "cell_type": "code",
   "execution_count": 335,
   "metadata": {},
   "outputs": [
    {
     "data": {
      "image/png": "[encoded data removed]",
      "text/plain": [
       "<Figure size 432x288 with 1 Axes>"
      ]
     },
     "metadata": {
      "needs_background": "light"
     },
     "output_type": "display_data"
    }
   ],
   "source": [
    "#normalising data\n",
    "my_data_nor,fac1_nor,fac2_nor=normalise(my_data)\n",
    "price_data_nor,fac3_nor,fac4_nor=normalise(price_data)\n",
    "#splitting data 80:20\n",
    "train_data,test_data=split(my_data_nor,0.8)\n",
    "train_price,test_price=split(price_data_nor,0.8)\n",
    "#stacking a coloumn for constant\n",
    "train_data=concatenate(train_data)\n",
    "test_data=concatenate(test_data)\n",
    "#calculating gradient descent\n",
    "theta, cost=gradientdescent(train_data,train_price,theta,cycle,alpha)\n",
    "#producing graph\n",
    "plt.plot(range(cycle),cost, label=\"normal\")\n",
    "plt.xlabel(\"Iterations\")\n",
    "plt.ylabel(\"Cost\")\n",
    "plt.grid()\n",
    "plt.title(\"Cost vs Iterations\")\n",
    "plt.show()"
   ]
  },
  {
   "cell_type": "markdown",
   "metadata": {},
   "source": [
    "##### Predicting values and calculating accuracy:"
   ]
  },
  {
   "cell_type": "code",
   "execution_count": 336,
   "metadata": {},
   "outputs": [
    {
     "name": "stdout",
     "output_type": "stream",
     "text": [
      "r2 score for train values 0.8485142777564624\n",
      "r2 score for test values 0.39673821832959866\n"
     ]
    }
   ],
   "source": [
    "train_predict=predict(train_data,theta)\n",
    "test_predict=predict(test_data,theta)\n",
    "print(\"r2 score for train values\",r2score(train_predict,train_price))\n",
    "print(\"r2 score for test values\",r2score(test_predict,test_price))"
   ]
  },
  {
   "cell_type": "markdown",
   "metadata": {},
   "source": [
    "##### Predicting the price for the query:"
   ]
  },
  {
   "cell_type": "code",
   "execution_count": 337,
   "metadata": {},
   "outputs": [
    {
     "name": "stdout",
     "output_type": "stream",
     "text": [
      "price prediction for query 22811.75394080996\n"
     ]
    }
   ],
   "source": [
    "query_nor=concatenate((query-np.array(fac1_nor))/np.array(fac2_nor))#normalising query values\n",
    "query_predict=predict(query_nor,theta)\n",
    "predict_convert=query_predict[0,0]*fac4_nor+fac3_nor#denormalising predicted pricee\n",
    "print(\"price prediction for query\",float(predict_convert))"
   ]
  },
  {
   "cell_type": "markdown",
   "metadata": {},
   "source": [
    "##### Using sklearn library to check the above solution:"
   ]
  },
  {
   "cell_type": "code",
   "execution_count": 338,
   "metadata": {},
   "outputs": [
    {
     "name": "stdout",
     "output_type": "stream",
     "text": [
      "r2 score of training data 0.8485146079419813\n",
      "r2 score of testing data 0.39741762020862736\n",
      "price prediction for query 22817.215899342093\n"
     ]
    }
   ],
   "source": [
    "from sklearn.linear_model import LinearRegression\n",
    "model=LinearRegression()\n",
    "model.fit(train_data,train_price)\n",
    "y_prediction=model.predict(query_nor)\n",
    "y_predict=model.predict(train_data)\n",
    "y1_predict=model.predict(test_data)\n",
    "print(\"r2 score of training data\",r2score(y_predict,train_price))\n",
    "print(\"r2 score of testing data\",r2score(y1_predict,test_price))\n",
    "print(\"price prediction for query\",float(y_prediction[0,0]*fac4_nor+fac3_nor))"
   ]
  },
  {
   "cell_type": "markdown",
   "metadata": {},
   "source": [
    "### For 90:10 splitting:\n",
    "##### Calculations:"
   ]
  },
  {
   "cell_type": "code",
   "execution_count": 339,
   "metadata": {},
   "outputs": [
    {
     "data": {
      "image/png": "[encoded data removed]",
      "text/plain": [
       "<Figure size 432x288 with 1 Axes>"
      ]
     },
     "metadata": {
      "needs_background": "light"
     },
     "output_type": "display_data"
    }
   ],
   "source": [
    "#normalising data\n",
    "my_data_nor,fac1_nor,fac2_nor=normalise(my_data)\n",
    "price_data_nor,fac3_nor,fac4_nor=normalise(price_data)\n",
    "#splitting data 90:10\n",
    "train_data,test_data=split(my_data_nor,0.9)\n",
    "train_price,test_price=split(price_data_nor,0.9)\n",
    "#stacking a coloumn for constant\n",
    "train_data=concatenate(train_data)\n",
    "test_data=concatenate(test_data)\n",
    "#calculating gradient descent\n",
    "theta, cost=gradientdescent(train_data,train_price,theta,cycle,alpha)\n",
    "#producing graph\n",
    "plt.plot(range(cycle),cost, label=\"normal\")\n",
    "plt.xlabel(\"Iterations\")\n",
    "plt.ylabel(\"Cost\")\n",
    "plt.grid()\n",
    "plt.title(\"Cost vs Iterations\")\n",
    "plt.show()"
   ]
  },
  {
   "cell_type": "markdown",
   "metadata": {},
   "source": [
    "##### Predicting values and accuracy:"
   ]
  },
  {
   "cell_type": "code",
   "execution_count": 340,
   "metadata": {},
   "outputs": [
    {
     "name": "stdout",
     "output_type": "stream",
     "text": [
      "r2 score for train values 0.8302708083375465\n",
      "r2 score for test values 0.7093473960792083\n"
     ]
    }
   ],
   "source": [
    "train_predict=predict(train_data,theta)\n",
    "test_predict=predict(test_data,theta)\n",
    "print(\"r2 score for train values\",r2score(train_predict,train_price))\n",
    "print(\"r2 score for test values\",r2score(test_predict,test_price))"
   ]
  },
  {
   "cell_type": "markdown",
   "metadata": {},
   "source": [
    "##### Predicting the price for query:"
   ]
  },
  {
   "cell_type": "code",
   "execution_count": 341,
   "metadata": {},
   "outputs": [
    {
     "name": "stdout",
     "output_type": "stream",
     "text": [
      "price prediction for query 22543.845512122734\n"
     ]
    }
   ],
   "source": [
    "query_nor=concatenate((query-np.array(fac1_nor))/np.array(fac2_nor))#normalising query values\n",
    "query_predict=predict(query_nor,theta)\n",
    "predict_convert=query_predict[0,0]*fac4_nor+fac3_nor#denormalising the predicted price\n",
    "print(\"price prediction for query\",float(predict_convert))"
   ]
  },
  {
   "cell_type": "markdown",
   "metadata": {},
   "source": [
    "##### Using sklearn library to check the above solution:"
   ]
  },
  {
   "cell_type": "code",
   "execution_count": 342,
   "metadata": {},
   "outputs": [
    {
     "name": "stdout",
     "output_type": "stream",
     "text": [
      "r2 score of training data 0.830270819904335\n",
      "r2 score of testing data 0.7093775788723966\n",
      "price prediction for query 22544.961740730076\n"
     ]
    }
   ],
   "source": [
    "from sklearn.linear_model import LinearRegression\n",
    "model=LinearRegression()\n",
    "model.fit(train_data,train_price)\n",
    "y_prediction=model.predict(query_nor)\n",
    "y_predict=model.predict(train_data)\n",
    "y1_predict=model.predict(test_data)\n",
    "print(\"r2 score of training data\",r2score(y_predict,train_price))\n",
    "print(\"r2 score of testing data\",r2score(y1_predict,test_price))\n",
    "print(\"price prediction for query\",float(y_prediction[0,0]*fac4_nor+fac3_nor))"
   ]
  }
 ],
 "metadata": {
  "kernelspec": {
   "display_name": "Python 3.10.4 64-bit",
   "language": "python",
   "name": "python3"
  },
  "language_info": {
   "codemirror_mode": {
    "name": "ipython",
    "version": 3
   },
   "file_extension": ".py",
   "mimetype": "text/x-python",
   "name": "python",
   "nbconvert_exporter": "python",
   "pygments_lexer": "ipython3",
   "version": "3.10.4"
  },
  "orig_nbformat": 4,
  "vscode": {
   "interpreter": {
    "hash": "e7370f93d1d0cde622a1f8e1c04877d8463912d04d973331ad4851f04de6915a"
   }
  }
 },
 "nbformat": 4,
 "nbformat_minor": 2
}
