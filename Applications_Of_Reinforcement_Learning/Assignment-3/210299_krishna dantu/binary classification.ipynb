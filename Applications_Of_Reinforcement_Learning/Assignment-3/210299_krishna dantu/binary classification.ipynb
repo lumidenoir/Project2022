{
 "cells": [
  {
   "cell_type": "markdown",
   "metadata": {},
   "source": [
    "### Binary classification on titanic problem"
   ]
  },
  {
   "cell_type": "markdown",
   "metadata": {},
   "source": [
    "#### Importing Libraries\n",
    "Imported necessary libraries and url for data"
   ]
  },
  {
   "cell_type": "code",
   "execution_count": 248,
   "metadata": {},
   "outputs": [],
   "source": [
    "import numpy as np\n",
    "import pandas as pd\n",
    "import matplotlib.pyplot as plt\n",
    "import math\n",
    "url=\"https://raw.githubusercontent.com/lumidenoir/Project2022/assignment/Applications_Of_Reinforcement_Learning/Assignment-3/210299_krishna%20dantu/\""
   ]
  },
  {
   "cell_type": "markdown",
   "metadata": {},
   "source": [
    "#### Basic functions:"
   ]
  },
  {
   "cell_type": "code",
   "execution_count": 249,
   "metadata": {},
   "outputs": [],
   "source": [
    "def normalise(matrix):\n",
    "    factor1=matrix.min()\n",
    "    factor2=matrix.max()-matrix.min()\n",
    "    matrix_nor = (matrix-factor1)/factor2\n",
    "    return matrix_nor,factor1,factor2\n",
    "\n",
    "def concate(matrix):\n",
    "    matrix=np.concatenate((np.ones((matrix.shape[0],1)),matrix), axis=1)\n",
    "    return matrix"
   ]
  },
  {
   "cell_type": "markdown",
   "metadata": {},
   "source": [
    "#### sigmoid function:"
   ]
  },
  {
   "cell_type": "code",
   "execution_count": 250,
   "metadata": {},
   "outputs": [],
   "source": [
    "def sigmoid(Z):\n",
    "    sig=1/(1+np.exp(-Z))\n",
    "    return sig"
   ]
  },
  {
   "cell_type": "markdown",
   "metadata": {},
   "source": [
    "#### Cost and Gradient descent functions:\n",
    "improvised the functions for both the methods."
   ]
  },
  {
   "cell_type": "code",
   "execution_count": 251,
   "metadata": {},
   "outputs": [],
   "source": [
    "def costfunction(X,y,theta,type):\n",
    "    ypre=X.dot(theta.T)\n",
    "    if type=='lin':\n",
    "        sqr_error=(ypre-y)**2\n",
    "        sumofsquares=np.sum(sqr_error)\n",
    "        return (1/2*X.shape[0])*sumofsquares\n",
    "    elif type=='sig':\n",
    "        term1=-y*(np.log(sigmoid(ypre)))\n",
    "        term2=-(1-y)*np.log(1-sigmoid(ypre))\n",
    "        return (1/X.shape[0])*np.sum(term1+term2)\n",
    "\n",
    "def gradientdescent(X,y,theta,cycle,alpha,type):\n",
    "    cost = np.zeros(cycle)\n",
    "    for i in range(cycle):\n",
    "        if type=='lin':\n",
    "            error=((X.dot(theta.T))-y)\n",
    "        elif type=='sig':\n",
    "            error=(sigmoid(X@theta.T)-y)\n",
    "        multiplyerror = (error.T@X)\n",
    "        theta = theta-(alpha/X.shape[1])*multiplyerror\n",
    "        cost[i] = costfunction(X, y, theta,type)\n",
    "    return theta,cost"
   ]
  },
  {
   "cell_type": "markdown",
   "metadata": {},
   "source": [
    "##### prediction function:\n",
    "prediction now possible for both methods."
   ]
  },
  {
   "cell_type": "code",
   "execution_count": 252,
   "metadata": {},
   "outputs": [],
   "source": [
    "def Predict(X,theta,type):\n",
    "    if type=='lin':\n",
    "        y_predict=X.dot(theta.T)\n",
    "    elif type=='sig':\n",
    "        y_predict=X.dot(theta.T)\n",
    "        for i in range(y_predict.shape[0]):\n",
    "         if y_predict[i,0]<0:\n",
    "            y_predict[i,0]=0\n",
    "         elif y_predict[i,0]>0:\n",
    "            y_predict[i,0]=1\n",
    "    return y_predict"
   ]
  },
  {
   "cell_type": "markdown",
   "metadata": {},
   "source": [
    "#### Function for filling missing values of age:\n",
    "datasets having missing values can be filled using various methods:\n",
    "- replacing missing values with arbitariry values.\n",
    "- replacing missing values with mean, median and mode.\n",
    "- interpolating the data.\n",
    "- using multivariate regression on other categories to calculate the missing values.\n",
    "- etc...\n",
    "\n",
    "Here I used mutivariate linear regression on `Pclass`, `Sex`, `SibSp`, `Parch`, `Fare` to get `Age`."
   ]
  },
  {
   "cell_type": "code",
   "execution_count": 253,
   "metadata": {},
   "outputs": [],
   "source": [
    "def fill_age(url, dataset):\n",
    "    if dataset=='train':\n",
    "        labels=['Survived','Pclass','Sex','Age','SibSp','Parch','Fare']\n",
    "        col=3\n",
    "    elif dataset=='test':\n",
    "        labels=['Pclass','Sex','Age','SibSp','Parch','Fare']\n",
    "        col=2\n",
    "    data=pd.read_csv(url, skipinitialspace=True, usecols=labels)#url\n",
    "    data['Sex'].replace(['male','female'],[1,0],inplace=True)\n",
    "    cycle=5000\n",
    "    dep_data=data.dropna(axis=0)\n",
    "    dep_data_reg=dep_data.loc[:,['Pclass','Sex','SibSp','Parch','Fare']].values\n",
    "    dep_data_age=dep_data.loc[:,['Age']].values\n",
    "    theta=np.zeros((1,dep_data_reg.shape[1]+1))\n",
    "    data_reg_nor,fac1,fac2=normalise(dep_data_reg)\n",
    "    data_reg_nor=concate(data_reg_nor)\n",
    "    theta1, cost=gradientdescent(data_reg_nor,dep_data_age,theta,cycle,0.01,'lin')\n",
    "    for i in range(data.shape[0]):\n",
    "        if math.isnan(data.iloc[i,col]):\n",
    "            data_dep=data.loc[i:i+1,['Pclass','Sex','SibSp','Parch','Fare']].values\n",
    "            data_dep=(data_dep-fac1)/fac2\n",
    "            data_dep=concate(data_dep)\n",
    "            data.iloc[i,col]=Predict(data_dep,theta1,'lin')[0,0]\n",
    "    \n",
    "    return data"
   ]
  },
  {
   "cell_type": "markdown",
   "metadata": {},
   "source": [
    "#### Training data:\n",
    "Here the number of cycle used is only 100 because using higher epochs the model is over-fitting the hypothesis equation."
   ]
  },
  {
   "cell_type": "code",
   "execution_count": 254,
   "metadata": {},
   "outputs": [
    {
     "data": {
      "image/png": "[encoded data removed]",
      "text/plain": [
       "<Figure size 432x288 with 1 Axes>"
      ]
     },
     "metadata": {
      "needs_background": "light"
     },
     "output_type": "display_data"
    }
   ],
   "source": [
    "train_data=fill_age(url+\"train.csv\",'train')#age fill using mutivariate linear regression\n",
    "data_cat=train_data.loc[:,['Pclass','Sex','Age','SibSp','Parch','Fare']]\n",
    "data_survive=train_data.loc[:,['Survived']]\n",
    "theta=np.array([[0,0,0,0,0,0,0]])\n",
    "data_cat,fac1,fac2=normalise(data_cat)\n",
    "data_cat=concate(data_cat)\n",
    "theta,cost2=gradientdescent(data_cat,data_survive,theta,100,0.01,'sig')\n",
    "survive_predict=Predict(data_cat,theta,'sig')\n",
    "\n",
    "plt.plot(range(100),cost2)\n",
    "plt.xlabel(\"iterations\")\n",
    "plt.ylabel(\"cost\")\n",
    "plt.title(\"cost vs iterations\")\n",
    "plt.show()"
   ]
  },
  {
   "cell_type": "markdown",
   "metadata": {},
   "source": [
    "#### Predicting survival for test data:"
   ]
  },
  {
   "cell_type": "code",
   "execution_count": 255,
   "metadata": {},
   "outputs": [],
   "source": [
    "test_data=fill_age(url+\"test.csv\",'test')\n",
    "test_cat=test_data.loc[:,['Pclass','Sex','Age','SibSp','Parch','Fare']].values\n",
    "test_cat=(test_cat-np.array(fac1))/np.array(fac2)\n",
    "test_cat=concate(test_cat)\n",
    "test_predict=Predict(test_cat,theta,'sig')"
   ]
  },
  {
   "cell_type": "markdown",
   "metadata": {},
   "source": [
    "#### Calculating accuracy:"
   ]
  },
  {
   "cell_type": "code",
   "execution_count": 256,
   "metadata": {},
   "outputs": [
    {
     "name": "stdout",
     "output_type": "stream",
     "text": [
      "Accuracy of model is [0.99760766]\n"
     ]
    }
   ],
   "source": [
    "df=pd.read_csv(url+\"gender_submission.csv\",skipinitialspace=True, usecols=['Survived']).values\n",
    "print(\"Accuracy of model is\",sum(test_predict==df)/len(df))"
   ]
  },
  {
   "cell_type": "markdown",
   "metadata": {},
   "source": [
    "#### task 2 prediction:\n",
    "assumed pclass of arpit to be 3 and shreya as 1"
   ]
  },
  {
   "cell_type": "code",
   "execution_count": 259,
   "metadata": {},
   "outputs": [
    {
     "name": "stdout",
     "output_type": "stream",
     "text": [
      "survival of arpit and shreya are 0.0 and 1.0 repectively\n"
     ]
    }
   ],
   "source": [
    "query_arpit=concate((np.array([[3,1,20,0,0,7.5]])-np.array(fac1))/np.array(fac2))\n",
    "query_shreya=concate((np.array([[1,0,19,1,1,512]])-np.array(fac1))/np.array(fac2))\n",
    "qa=Predict(query_arpit,theta,'sig')\n",
    "qs=Predict(query_shreya,theta,'sig')\n",
    "print(\"survival of arpit and shreya are\",qa[0,0],\"and\",qs[0,0],\"repectively\")"
   ]
  }
 ],
 "metadata": {
  "kernelspec": {
   "display_name": "Python 3.10.5 64-bit",
   "language": "python",
   "name": "python3"
  },
  "language_info": {
   "codemirror_mode": {
    "name": "ipython",
    "version": 3
   },
   "file_extension": ".py",
   "mimetype": "text/x-python",
   "name": "python",
   "nbconvert_exporter": "python",
   "pygments_lexer": "ipython3",
   "version": "3.10.5"
  },
  "orig_nbformat": 4,
  "vscode": {
   "interpreter": {
    "hash": "e7370f93d1d0cde622a1f8e1c04877d8463912d04d973331ad4851f04de6915a"
   }
  }
 },
 "nbformat": 4,
 "nbformat_minor": 2
}
